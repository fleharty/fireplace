{
 "cells": [
  {
   "cell_type": "code",
   "execution_count": 1,
   "metadata": {},
   "outputs": [],
   "source": [
    "from firecloud import fiss\n",
    "from firecloud import api as fapi"
   ]
  },
  {
   "cell_type": "code",
   "execution_count": 2,
   "metadata": {},
   "outputs": [
    {
     "name": "stderr",
     "output_type": "stream",
     "text": [
      "/Library/Frameworks/Python.framework/Versions/3.8/lib/python3.8/site-packages/google/auth/_default.py:69: UserWarning: Your application has authenticated using end user credentials from Google Cloud SDK without a quota project. You might receive a \"quota exceeded\" or \"API not enabled\" error. We recommend you rerun `gcloud auth application-default login` and make sure a quota project is added. Or you can use service accounts instead. For more information about service accounts, see https://cloud.google.com/docs/authentication/\n",
      "  warnings.warn(_CLOUD_SDK_CREDENTIALS_WARNING)\n"
     ]
    }
   ],
   "source": [
    "workspace = fapi.get_workspace(\"broad-firecloud-dsde-methods\", \"MMRF_EndToEndHardClippedUseDefaultAF\")"
   ]
  },
  {
   "cell_type": "code",
   "execution_count": 3,
   "metadata": {},
   "outputs": [
    {
     "data": {
      "text/plain": [
       "{'accessLevel': 'OWNER',\n",
       " 'bucketOptions': {'requesterPays': False},\n",
       " 'canCompute': True,\n",
       " 'canShare': True,\n",
       " 'catalog': False,\n",
       " 'owners': ['fleharty@broadinstitute.org'],\n",
       " 'workspace': {'attributes': {'reference_rbwt': 'gs://gptag/BloodBiopsy/reference/hg19/Homo_sapiens_assembly19.fasta.rbwt',\n",
       "   'reference': 'gs://gptag/BloodBiopsy/reference/hg19/Homo_sapiens_assembly19.fasta',\n",
       "   'reference_sa': 'gs://gptag/BloodBiopsy/reference/hg19/Homo_sapiens_assembly19.fasta.64.sa',\n",
       "   'process_duplex_coverage_rscript': '/usr/ProcessDuplexCoverage.R',\n",
       "   'artifact_modes': '[\"G/T\", \"C/T\"]',\n",
       "   'blastdb_nin': 'gs://gptag/BloodBiopsy/reference/hg19/Homo_sapiens_assembly19.fasta.nin',\n",
       "   'large_disk': '1000',\n",
       "   'reference_dict': 'gs://gptag/BloodBiopsy/reference/hg19/Homo_sapiens_assembly19.dict',\n",
       "   'variant_eval_gold_standard': 'gs://gptag/BloodBiopsy/reference/hg19/Homo_sapiens_assembly19.variantEvalGoldStandard.vcf.gz',\n",
       "   'truth_vcf': 'gs://broad-dsde-methods-fleharty/mmrf_validation/HD_gDNA_Truth1.above30x.confident.truth.vcf.gz',\n",
       "   'reference_index': 'gs://gptag/BloodBiopsy/reference/hg19/Homo_sapiens_assembly19.fasta.fai',\n",
       "   'reference_rpac': 'gs://gptag/BloodBiopsy/reference/hg19/Homo_sapiens_assembly19.fasta.rpac',\n",
       "   'gnomad': 'gs://gptag/BloodBiopsy/common_sites/hg19/af-only-gnomad.raw.sites.mmrf.padded.vcf.gz',\n",
       "   'scatter_count': '5',\n",
       "   'description': '',\n",
       "   'blastdb_nsq': 'gs://gptag/BloodBiopsy/reference/hg19/Homo_sapiens_assembly19.fasta.nsq',\n",
       "   'N_ratio': '15',\n",
       "   'bait_intervals': 'gs://fc-59dfe023-cd5f-4da5-b853-51c083e5227c/MMRF_v1_REDESIGN_2019.Homo_sapiens_assembly19.baits.interval_list',\n",
       "   'bwa_path': '/usr/bwa',\n",
       "   'published': 'false',\n",
       "   'getpileupsummaries_extra_args': '-max-af 1.0',\n",
       "   'generate_plots_rscript': '/usr/generatePlots.R',\n",
       "   'pon': 'gs://gptag/BloodBiopsy/pon/pancancer_duplex_pon_97samples.fgbio-1.0.0-gatk-4.1.4.0.Oct30.2019.vcf',\n",
       "   'minimum_base_quality': '20',\n",
       "   'num_clip_bases': '10',\n",
       "   'reference_rsa': 'gs://gptag/BloodBiopsy/reference/hg19/Homo_sapiens_assembly19.fasta.rsa',\n",
       "   'm2_extra_filtering_args': '--f-score-beta 1.0',\n",
       "   'gatk_docker': 'us.gcr.io/broad-gatk/gatk:4.1.4.0',\n",
       "   'reference_amb': 'gs://gptag/BloodBiopsy/reference/hg19/Homo_sapiens_assembly19.fasta.64.amb',\n",
       "   'dbsnp_index': 'gs://gptag/BloodBiopsy/reference/hg19/Homo_sapiens_assembly19.dbsnp.vcf.gz.tbi',\n",
       "   'variants_for_contamination_index': 'gs://gatk-best-practices/somatic-b37/small_exac_common_3.vcf.idx',\n",
       "   'reference_version': 'hg19',\n",
       "   'frac_Ns': '0.05',\n",
       "   'dbsnp': 'gs://gptag/BloodBiopsy/reference/hg19/Homo_sapiens_assembly19.dbsnp.vcf.gz',\n",
       "   'variant_eval_gold_standard_index': 'gs://gptag/BloodBiopsy/reference/hg19/Homo_sapiens_assembly19.variantEvalGoldStandard.vcf.gz.tbi',\n",
       "   'pon_for_benchmarking_idx': 'gs://gptag/BloodBiopsy/pon/pancancer_duplex_pon_97samples.fgbio-1.0.0-gatk-4.1.4.0.Oct30.2019.minustruth.vcf.gz.tbi',\n",
       "   'blastn_path': '/usr/blastn_2.2.30+',\n",
       "   'variants_for_contamination': 'gs://gatk-best-practices/somatic-b37/small_exac_common_3.vcf',\n",
       "   'blastdb_nhr': 'gs://gptag/BloodBiopsy/reference/hg19/Homo_sapiens_assembly19.fasta.nhr',\n",
       "   'reference_bwt': 'gs://gptag/BloodBiopsy/reference/hg19/Homo_sapiens_assembly19.fasta.64.bwt',\n",
       "   'allowable_umi_distance': '1',\n",
       "   'known_indels_index': 'gs://gptag/BloodBiopsy/reference/hg19/Mills_and_1000G_gold_standard.indels.b37.vcf.gz.tbi',\n",
       "   'calc_fs_script': '/usr/calcFS.R',\n",
       "   'compression_level': '2',\n",
       "   'calling_intervals': 'gs://gptag/BloodBiopsy/intervals/hg19/MMRF_v1_REDESIGN_2019.Homo_sapiens_assembly19.padded10.targets.interval_list',\n",
       "   'reference_bwa_index': 'gs://gptag/BloodBiopsy/reference/hg19/Homo_sapiens_assembly19.fasta.index',\n",
       "   'high_confidence_interval_list': 'gs://fc-4d1d1da5-aacc-4280-8bca-9c7b9c490519/cfc3aa3d-4297-4437-8d8c-708af7a09928/GenerateTruth/6a727588-44e3-47fd-89cb-e01fcef924ea/call-MakeTruthSet/HD_gDNA_Truth1.confident.interval_list',\n",
       "   'data_sources_tar_gz': 'gs://broad-public-datasets/funcotator/funcotator_dataSources.v1.6.20190124g.tar.gz',\n",
       "   'gnomad_for_benchmarking': 'gs://gptag/BloodBiopsy/common_sites/hg19/gnomad.mmrf.minustruth.vcf.gz',\n",
       "   'm2_extra_args': '--dont-use-soft-clipped-bases true --tumor-lod-to-emit 0 --max-reads-per-alignment-start 0 --initial-tumor-lod 0 --pcr-snv-qual 70 --pcr-indel-qual 70',\n",
       "   'reference_pac': 'gs://gptag/BloodBiopsy/reference/hg19/Homo_sapiens_assembly19.fasta.64.pac',\n",
       "   'bloodbiopsydocker': 'us.gcr.io/broad-dsde-methods/liquidbiopsy:0.0.4.3',\n",
       "   'truth_vcf_index': 'gs://broad-dsde-methods-fleharty/mmrf_validation/HD_gDNA_Truth1.above30x.confident.truth.vcf.gz.tbi',\n",
       "   'minimum_consensus_reads': '1',\n",
       "   'mapping_filter_python_script': '/usr/filter_alt_ref_positions.py',\n",
       "   'pon_for_benchmarking': 'gs://gptag/BloodBiopsy/pon/pancancer_duplex_pon_97samples.fgbio-1.0.0-gatk-4.1.4.0.Oct30.2019.minustruth.vcf.gz',\n",
       "   'pon_idx': 'gs://gptag/BloodBiopsy/pon/pancancer_duplex_pon_97samples.fgbio-1.0.0-gatk-4.1.4.0.Oct30.2019.vcf.idx',\n",
       "   'haplotype_database': 'gs://gptag/BloodBiopsy/reference/hg19/Homo_sapiens_assembly19.haplotype_database.txt',\n",
       "   'known_indels': 'gs://gptag/BloodBiopsy/reference/hg19/Mills_and_1000G_gold_standard.indels.b37.vcf.gz',\n",
       "   'gnomad_index': 'gs://gptag/BloodBiopsy/common_sites/hg19/af-only-gnomad.raw.sites.mmrf.padded.vcf.gz.tbi',\n",
       "   'gnomad_for_benchmarking_idx': 'gs://gptag/BloodBiopsy/common_sites/hg19/gnomad.mmrf.minustruth.vcf.gz.tbi',\n",
       "   'high_confidence_bed': 'gs://fc-4d1d1da5-aacc-4280-8bca-9c7b9c490519/cfc3aa3d-4297-4437-8d8c-708af7a09928/GenerateTruth/6a727588-44e3-47fd-89cb-e01fcef924ea/call-MakeTruthSet/HD_gDNA_Truth1.confident.bed',\n",
       "   'target_intervals': 'gs://fc-59dfe023-cd5f-4da5-b853-51c083e5227c/MMRF_v1_REDESIGN_2019.Homo_sapiens_assembly19.targets.interval_list',\n",
       "   'lego_plotter': '/usr/legoPlotter.py',\n",
       "   'min_reads': '1 1 1',\n",
       "   'reference_ann': 'gs://gptag/BloodBiopsy/reference/hg19/Homo_sapiens_assembly19.fasta.64.ann',\n",
       "   'reference_alt': 'gs://broad-gitc-reference/hg19/Homo_sapiens_assembly19.fasta.alt'},\n",
       "  'authorizationDomain': [],\n",
       "  'bucketName': 'fc-25fc1e4a-3cc4-447d-a90a-1fc3163fbc25',\n",
       "  'createdBy': 'fleharty@broadinstitute.org',\n",
       "  'createdDate': '2020-09-09T17:12:04.409Z',\n",
       "  'googleProject': 'broad-firecloud-dsde-methods',\n",
       "  'isLocked': False,\n",
       "  'lastModified': '2020-09-09T19:16:30.421Z',\n",
       "  'name': 'MMRF_EndToEndHardClippedUseDefaultAF',\n",
       "  'namespace': 'broad-firecloud-dsde-methods',\n",
       "  'workflowCollectionName': '25fc1e4a-3cc4-447d-a90a-1fc3163fbc25',\n",
       "  'workspaceId': '25fc1e4a-3cc4-447d-a90a-1fc3163fbc25',\n",
       "  'workspaceVersion': 'v1'},\n",
       " 'workspaceSubmissionStats': {'lastSuccessDate': '2020-09-09T19:16:30.413Z',\n",
       "  'runningSubmissionsCount': 0}}"
      ]
     },
     "execution_count": 3,
     "metadata": {},
     "output_type": "execute_result"
    }
   ],
   "source": [
    "workspace_attributes = workspace.json()\n",
    "workspace_attributes"
   ]
  },
  {
   "cell_type": "code",
   "execution_count": 41,
   "metadata": {},
   "outputs": [
    {
     "data": {
      "text/plain": [
       "'gs://gptag/BloodBiopsy/reference/hg19/Homo_sapiens_assembly19.fasta'"
      ]
     },
     "execution_count": 41,
     "metadata": {},
     "output_type": "execute_result"
    }
   ],
   "source": [
    "workspace_attributes[\"workspace\"][\"attributes\"][\"reference\"]"
   ]
  },
  {
   "cell_type": "code",
   "execution_count": 49,
   "metadata": {},
   "outputs": [],
   "source": [
    "method_configurations = fapi.get_method_configurations(\"LiquidBiopsyDevelopment\", \"BenchmarkLiquidBiopsy\")"
   ]
  },
  {
   "cell_type": "code",
   "execution_count": 50,
   "metadata": {},
   "outputs": [
    {
     "data": {
      "text/plain": [
       "<Response [200]>"
      ]
     },
     "execution_count": 50,
     "metadata": {},
     "output_type": "execute_result"
    }
   ],
   "source": [
    "method_configurations"
   ]
  },
  {
   "cell_type": "code",
   "execution_count": 58,
   "metadata": {},
   "outputs": [],
   "source": [
    "workflow_outputs = fapi.get_workflow_outputs(\"broad-firecloud-dsde-methods\", \"MMRF_EndToEndHardClippedUseDefaultAF\", \"30c74fe6-f594-4e4b-9dc1-cbd1458d3d27\", \"00eb253a-a18c-41ac-80db-b125e2a661e7\")"
   ]
  },
  {
   "cell_type": "code",
   "execution_count": 59,
   "metadata": {},
   "outputs": [
    {
     "data": {
      "text/plain": [
       "{'tasks': {'BenchmarkLiquidBiopsy.GenerateTruthStatistics': {'logs': [{'backendLogs': {'log': 'gs://fc-25fc1e4a-3cc4-447d-a90a-1fc3163fbc25/30c74fe6-f594-4e4b-9dc1-cbd1458d3d27/BenchmarkLiquidBiopsy/00eb253a-a18c-41ac-80db-b125e2a661e7/call-GenerateTruthStatistics/GenerateTruthStatistics.log'},\n",
       "     'stderr': 'gs://fc-25fc1e4a-3cc4-447d-a90a-1fc3163fbc25/30c74fe6-f594-4e4b-9dc1-cbd1458d3d27/BenchmarkLiquidBiopsy/00eb253a-a18c-41ac-80db-b125e2a661e7/call-GenerateTruthStatistics/stderr',\n",
       "     'stdout': 'gs://fc-25fc1e4a-3cc4-447d-a90a-1fc3163fbc25/30c74fe6-f594-4e4b-9dc1-cbd1458d3d27/BenchmarkLiquidBiopsy/00eb253a-a18c-41ac-80db-b125e2a661e7/call-GenerateTruthStatistics/stdout'}]},\n",
       "  'BenchmarkLiquidBiopsy.GenerateIGVSession': {'logs': [{'backendLogs': {'log': 'gs://fc-25fc1e4a-3cc4-447d-a90a-1fc3163fbc25/30c74fe6-f594-4e4b-9dc1-cbd1458d3d27/BenchmarkLiquidBiopsy/00eb253a-a18c-41ac-80db-b125e2a661e7/call-GenerateIGVSession/GenerateIGVSession.log'},\n",
       "     'stderr': 'gs://fc-25fc1e4a-3cc4-447d-a90a-1fc3163fbc25/30c74fe6-f594-4e4b-9dc1-cbd1458d3d27/BenchmarkLiquidBiopsy/00eb253a-a18c-41ac-80db-b125e2a661e7/call-GenerateIGVSession/stderr',\n",
       "     'stdout': 'gs://fc-25fc1e4a-3cc4-447d-a90a-1fc3163fbc25/30c74fe6-f594-4e4b-9dc1-cbd1458d3d27/BenchmarkLiquidBiopsy/00eb253a-a18c-41ac-80db-b125e2a661e7/call-GenerateIGVSession/stdout'}]},\n",
       "  'BenchmarkLiquidBiopsy': {'outputs': {'BenchmarkLiquidBiopsy.concordance_summary': 'gs://fc-25fc1e4a-3cc4-447d-a90a-1fc3163fbc25/30c74fe6-f594-4e4b-9dc1-cbd1458d3d27/BenchmarkLiquidBiopsy/00eb253a-a18c-41ac-80db-b125e2a661e7/call-M2_Concordance/2pct_50ng_2-summary.tsv',\n",
       "    'BenchmarkLiquidBiopsy.filter_analysis': 'gs://fc-25fc1e4a-3cc4-447d-a90a-1fc3163fbc25/30c74fe6-f594-4e4b-9dc1-cbd1458d3d27/BenchmarkLiquidBiopsy/00eb253a-a18c-41ac-80db-b125e2a661e7/call-M2_Concordance/2pct_50ng_2-filter-analysis.txt',\n",
       "    'BenchmarkLiquidBiopsy.igv_session': 'gs://fc-25fc1e4a-3cc4-447d-a90a-1fc3163fbc25/30c74fe6-f594-4e4b-9dc1-cbd1458d3d27/BenchmarkLiquidBiopsy/00eb253a-a18c-41ac-80db-b125e2a661e7/call-GenerateIGVSession/2pct_50ng_2.xml'}},\n",
       "  'BenchmarkLiquidBiopsy.RemoveContaminationFilter': {'logs': [{'backendLogs': {'log': 'gs://fc-25fc1e4a-3cc4-447d-a90a-1fc3163fbc25/30c74fe6-f594-4e4b-9dc1-cbd1458d3d27/BenchmarkLiquidBiopsy/00eb253a-a18c-41ac-80db-b125e2a661e7/call-RemoveContaminationFilter/RemoveContaminationFilter.log'},\n",
       "     'stderr': 'gs://fc-25fc1e4a-3cc4-447d-a90a-1fc3163fbc25/30c74fe6-f594-4e4b-9dc1-cbd1458d3d27/BenchmarkLiquidBiopsy/00eb253a-a18c-41ac-80db-b125e2a661e7/call-RemoveContaminationFilter/stderr',\n",
       "     'stdout': 'gs://fc-25fc1e4a-3cc4-447d-a90a-1fc3163fbc25/30c74fe6-f594-4e4b-9dc1-cbd1458d3d27/BenchmarkLiquidBiopsy/00eb253a-a18c-41ac-80db-b125e2a661e7/call-RemoveContaminationFilter/stdout'}]},\n",
       "  'BenchmarkLiquidBiopsy.M2_Concordance': {'logs': [{'backendLogs': {'log': 'gs://fc-25fc1e4a-3cc4-447d-a90a-1fc3163fbc25/30c74fe6-f594-4e4b-9dc1-cbd1458d3d27/BenchmarkLiquidBiopsy/00eb253a-a18c-41ac-80db-b125e2a661e7/call-M2_Concordance/M2_Concordance.log'},\n",
       "     'stderr': 'gs://fc-25fc1e4a-3cc4-447d-a90a-1fc3163fbc25/30c74fe6-f594-4e4b-9dc1-cbd1458d3d27/BenchmarkLiquidBiopsy/00eb253a-a18c-41ac-80db-b125e2a661e7/call-M2_Concordance/stderr',\n",
       "     'stdout': 'gs://fc-25fc1e4a-3cc4-447d-a90a-1fc3163fbc25/30c74fe6-f594-4e4b-9dc1-cbd1458d3d27/BenchmarkLiquidBiopsy/00eb253a-a18c-41ac-80db-b125e2a661e7/call-M2_Concordance/stdout'}]}},\n",
       " 'workflowId': '00eb253a-a18c-41ac-80db-b125e2a661e7'}"
      ]
     },
     "execution_count": 59,
     "metadata": {},
     "output_type": "execute_result"
    }
   ],
   "source": [
    "workflow_outputs.json()"
   ]
  },
  {
   "cell_type": "code",
   "execution_count": null,
   "metadata": {},
   "outputs": [],
   "source": []
  }
 ],
 "metadata": {
  "kernelspec": {
   "display_name": "Python 3",
   "language": "python",
   "name": "python3"
  },
  "language_info": {
   "codemirror_mode": {
    "name": "ipython",
    "version": 3
   },
   "file_extension": ".py",
   "mimetype": "text/x-python",
   "name": "python",
   "nbconvert_exporter": "python",
   "pygments_lexer": "ipython3",
   "version": "3.8.0"
  }
 },
 "nbformat": 4,
 "nbformat_minor": 2
}
