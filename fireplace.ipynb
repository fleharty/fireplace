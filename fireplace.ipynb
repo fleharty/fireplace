{
 "cells": [
  {
   "cell_type": "code",
   "execution_count": 1,
   "metadata": {},
   "outputs": [],
   "source": [
    "from firecloud import fiss\n",
    "from firecloud import api as fapi"
   ]
  },
  {
   "cell_type": "code",
   "execution_count": 13,
   "metadata": {},
   "outputs": [],
   "source": [
    "import firecloud.api as fapi\n",
    "\n",
    "\n",
    "namespace = \"broad-firecloud-dsde-methods\"\n",
    "workspace = \"FireplaceSample\"\n"
   ]
  },
  {
   "cell_type": "code",
   "execution_count": 12,
   "metadata": {},
   "outputs": [],
   "source": [
    "workspace = fapi.get_workspace(\"broad-firecloud-dsde-methods\", \"FireplaceSample\")"
   ]
  },
  {
   "cell_type": "code",
   "execution_count": 14,
   "metadata": {},
   "outputs": [],
   "source": [
    "configs = fapi.list_workspace_configs(namespace, workspace)\n"
   ]
  },
  {
   "cell_type": "code",
   "execution_count": 49,
   "metadata": {},
   "outputs": [
    {
     "name": "stdout",
     "output_type": "stream",
     "text": [
      "{'methodRepoMethod': {'methodName': 'hello-world', 'methodVersion': 2, 'methodNamespace': 'fleharty', 'methodUri': 'agora://fleharty/hello-world/2', 'sourceRepo': 'agora'}, 'name': 'hello-world', 'namespace': 'fleharty', 'rootEntityType': 'participant'}\n"
     ]
    }
   ],
   "source": [
    "for config in configs.json():\n",
    "\n",
    "   print(config)   "
   ]
  },
  {
   "cell_type": "code",
   "execution_count": 54,
   "metadata": {},
   "outputs": [],
   "source": [
    "def getstuff(namespace, workspace):\n",
    "    for config in configs.json():\n",
    "        config_namespace = config[\"namespace\"]\n",
    "        config_name = config[\"name\"]\n",
    "   \n",
    "        method_config = fapi.get_workspace_config(namespace, workspace, config_namespace, config_name)\n",
    "   \n",
    "        method_namespace = config[\"methodRepoMethod\"][\"methodNamespace\"]\n",
    "        method_name = config[\"methodRepoMethod\"][\"methodName\"]\n",
    "        method_version= config[\"methodRepoMethod\"][\"methodVersion\"]\n",
    "   \n",
    "        input_outputs = fapi.get_inputs_outputs(method_namespace, method_name, method_version)\n",
    "        print(input_outputs.json())"
   ]
  },
  {
   "cell_type": "code",
   "execution_count": null,
   "metadata": {},
   "outputs": [],
   "source": [
    "getstuff(namespace, workspace)"
   ]
  },
  {
   "cell_type": "code",
   "execution_count": 53,
   "metadata": {
    "collapsed": true
   },
   "outputs": [
    {
     "name": "stdout",
     "output_type": "stream",
     "text": [
      "{'inputs': [{'inputType': 'String', 'name': 'HelloWorld.hello_world_string', 'optional': False}, {'inputType': 'String', 'name': 'HelloWorld.hello_world_string2', 'optional': False}], 'outputs': [{'name': 'HelloWorld.echo.out', 'outputType': 'String'}]}\n"
     ]
    }
   ],
   "source": [
    "for config in configs.json():\n",
    "   config_namespace = config[\"namespace\"]\n",
    "   config_name = config[\"name\"]\n",
    "   \n",
    "   method_config = fapi.get_workspace_config(namespace, workspace, config_namespace, config_name)\n",
    "   \n",
    "   method_namespace = config[\"methodRepoMethod\"][\"methodNamespace\"]\n",
    "   method_name = config[\"methodRepoMethod\"][\"methodName\"]\n",
    "   method_version= config[\"methodRepoMethod\"][\"methodVersion\"]\n",
    "   \n",
    "   input_outputs = fapi.get_inputs_outputs(method_namespace, method_name, method_version)\n",
    "   print(input_outputs.json())\n",
    "   \n",
    "   \n",
    "   "
   ]
  },
  {
   "cell_type": "code",
   "execution_count": 29,
   "metadata": {},
   "outputs": [
    {
     "ename": "AttributeError",
     "evalue": "'str' object has no attribute 'json'",
     "traceback": [
      "\u001b[0;31m---------------------------------------------------------------------------\u001b[0m",
      "\u001b[0;31mAttributeError\u001b[0m                            Traceback (most recent call last)",
      "\u001b[0;32m<ipython-input-29-81096d33093a>\u001b[0m in \u001b[0;36m<module>\u001b[0;34m\u001b[0m\n\u001b[0;32m----> 1\u001b[0;31m \u001b[0mworkspace_attributes\u001b[0m \u001b[0;34m=\u001b[0m \u001b[0mworkspace\u001b[0m\u001b[0;34m.\u001b[0m\u001b[0mjson\u001b[0m\u001b[0;34m(\u001b[0m\u001b[0;34m)\u001b[0m\u001b[0;34m\u001b[0m\u001b[0;34m\u001b[0m\u001b[0m\n\u001b[0m\u001b[1;32m      2\u001b[0m \u001b[0mworkspace_attributes\u001b[0m\u001b[0;34m\u001b[0m\u001b[0;34m\u001b[0m\u001b[0m\n",
      "\u001b[0;31mAttributeError\u001b[0m: 'str' object has no attribute 'json'"
     ],
     "output_type": "error"
    }
   ],
   "source": [
    "workspace_attributes = workspace.json()\n",
    "workspace_attributes"
   ]
  },
  {
   "cell_type": "code",
   "execution_count": 6,
   "metadata": {},
   "outputs": [],
   "source": [
    "method_configurations = fapi.get_method_configurations(\"LiquidBiopsyDevelopment\", \"BenchmarkLiquidBiopsy\")"
   ]
  },
  {
   "cell_type": "code",
   "execution_count": 7,
   "metadata": {},
   "outputs": [
    {
     "data": {
      "text/plain": [
       "<Response [200]>"
      ]
     },
     "execution_count": 7,
     "metadata": {},
     "output_type": "execute_result"
    }
   ],
   "source": [
    "method_configurations"
   ]
  },
  {
   "cell_type": "code",
   "execution_count": 8,
   "metadata": {},
   "outputs": [],
   "source": [
    "workflow_outputs = fapi.get_workflow_outputs(\"broad-firecloud-dsde-methods\", \"MMRF_EndToEndHardClippedUseDefaultAF\", \"30c74fe6-f594-4e4b-9dc1-cbd1458d3d27\", \"00eb253a-a18c-41ac-80db-b125e2a661e7\")"
   ]
  },
  {
   "cell_type": "code",
   "execution_count": 9,
   "metadata": {},
   "outputs": [
    {
     "data": {
      "text/plain": [
       "{'tasks': {'BenchmarkLiquidBiopsy.GenerateTruthStatistics': {'logs': [{'backendLogs': {'log': 'gs://fc-25fc1e4a-3cc4-447d-a90a-1fc3163fbc25/30c74fe6-f594-4e4b-9dc1-cbd1458d3d27/BenchmarkLiquidBiopsy/00eb253a-a18c-41ac-80db-b125e2a661e7/call-GenerateTruthStatistics/GenerateTruthStatistics.log'},\n     'stderr': 'gs://fc-25fc1e4a-3cc4-447d-a90a-1fc3163fbc25/30c74fe6-f594-4e4b-9dc1-cbd1458d3d27/BenchmarkLiquidBiopsy/00eb253a-a18c-41ac-80db-b125e2a661e7/call-GenerateTruthStatistics/stderr',\n     'stdout': 'gs://fc-25fc1e4a-3cc4-447d-a90a-1fc3163fbc25/30c74fe6-f594-4e4b-9dc1-cbd1458d3d27/BenchmarkLiquidBiopsy/00eb253a-a18c-41ac-80db-b125e2a661e7/call-GenerateTruthStatistics/stdout'}]},\n  'BenchmarkLiquidBiopsy.GenerateIGVSession': {'logs': [{'backendLogs': {'log': 'gs://fc-25fc1e4a-3cc4-447d-a90a-1fc3163fbc25/30c74fe6-f594-4e4b-9dc1-cbd1458d3d27/BenchmarkLiquidBiopsy/00eb253a-a18c-41ac-80db-b125e2a661e7/call-GenerateIGVSession/GenerateIGVSession.log'},\n     'stderr': 'gs://fc-25fc1e4a-3cc4-447d-a90a-1fc3163fbc25/30c74fe6-f594-4e4b-9dc1-cbd1458d3d27/BenchmarkLiquidBiopsy/00eb253a-a18c-41ac-80db-b125e2a661e7/call-GenerateIGVSession/stderr',\n     'stdout': 'gs://fc-25fc1e4a-3cc4-447d-a90a-1fc3163fbc25/30c74fe6-f594-4e4b-9dc1-cbd1458d3d27/BenchmarkLiquidBiopsy/00eb253a-a18c-41ac-80db-b125e2a661e7/call-GenerateIGVSession/stdout'}]},\n  'BenchmarkLiquidBiopsy': {'outputs': {'BenchmarkLiquidBiopsy.concordance_summary': 'gs://fc-25fc1e4a-3cc4-447d-a90a-1fc3163fbc25/30c74fe6-f594-4e4b-9dc1-cbd1458d3d27/BenchmarkLiquidBiopsy/00eb253a-a18c-41ac-80db-b125e2a661e7/call-M2_Concordance/2pct_50ng_2-summary.tsv',\n    'BenchmarkLiquidBiopsy.filter_analysis': 'gs://fc-25fc1e4a-3cc4-447d-a90a-1fc3163fbc25/30c74fe6-f594-4e4b-9dc1-cbd1458d3d27/BenchmarkLiquidBiopsy/00eb253a-a18c-41ac-80db-b125e2a661e7/call-M2_Concordance/2pct_50ng_2-filter-analysis.txt',\n    'BenchmarkLiquidBiopsy.igv_session': 'gs://fc-25fc1e4a-3cc4-447d-a90a-1fc3163fbc25/30c74fe6-f594-4e4b-9dc1-cbd1458d3d27/BenchmarkLiquidBiopsy/00eb253a-a18c-41ac-80db-b125e2a661e7/call-GenerateIGVSession/2pct_50ng_2.xml'}},\n  'BenchmarkLiquidBiopsy.RemoveContaminationFilter': {'logs': [{'backendLogs': {'log': 'gs://fc-25fc1e4a-3cc4-447d-a90a-1fc3163fbc25/30c74fe6-f594-4e4b-9dc1-cbd1458d3d27/BenchmarkLiquidBiopsy/00eb253a-a18c-41ac-80db-b125e2a661e7/call-RemoveContaminationFilter/RemoveContaminationFilter.log'},\n     'stderr': 'gs://fc-25fc1e4a-3cc4-447d-a90a-1fc3163fbc25/30c74fe6-f594-4e4b-9dc1-cbd1458d3d27/BenchmarkLiquidBiopsy/00eb253a-a18c-41ac-80db-b125e2a661e7/call-RemoveContaminationFilter/stderr',\n     'stdout': 'gs://fc-25fc1e4a-3cc4-447d-a90a-1fc3163fbc25/30c74fe6-f594-4e4b-9dc1-cbd1458d3d27/BenchmarkLiquidBiopsy/00eb253a-a18c-41ac-80db-b125e2a661e7/call-RemoveContaminationFilter/stdout'}]},\n  'BenchmarkLiquidBiopsy.M2_Concordance': {'logs': [{'backendLogs': {'log': 'gs://fc-25fc1e4a-3cc4-447d-a90a-1fc3163fbc25/30c74fe6-f594-4e4b-9dc1-cbd1458d3d27/BenchmarkLiquidBiopsy/00eb253a-a18c-41ac-80db-b125e2a661e7/call-M2_Concordance/M2_Concordance.log'},\n     'stderr': 'gs://fc-25fc1e4a-3cc4-447d-a90a-1fc3163fbc25/30c74fe6-f594-4e4b-9dc1-cbd1458d3d27/BenchmarkLiquidBiopsy/00eb253a-a18c-41ac-80db-b125e2a661e7/call-M2_Concordance/stderr',\n     'stdout': 'gs://fc-25fc1e4a-3cc4-447d-a90a-1fc3163fbc25/30c74fe6-f594-4e4b-9dc1-cbd1458d3d27/BenchmarkLiquidBiopsy/00eb253a-a18c-41ac-80db-b125e2a661e7/call-M2_Concordance/stdout'}]}},\n 'workflowId': '00eb253a-a18c-41ac-80db-b125e2a661e7'}"
      ]
     },
     "execution_count": 9,
     "metadata": {},
     "output_type": "execute_result"
    }
   ],
   "source": [
    "workflow_outputs.json()"
   ]
  },
  {
   "cell_type": "code",
   "execution_count": null,
   "metadata": {},
   "outputs": [],
   "source": []
  }
 ],
 "metadata": {
  "kernelspec": {
   "display_name": "Python 3",
   "language": "python",
   "name": "python3"
  },
  "language_info": {
   "codemirror_mode": {
    "name": "ipython",
    "version": 3
   },
   "file_extension": ".py",
   "mimetype": "text/x-python",
   "name": "python",
   "nbconvert_exporter": "python",
   "pygments_lexer": "ipython3",
   "version": "3.8.0"
  }
 },
 "nbformat": 4,
 "nbformat_minor": 2
}
